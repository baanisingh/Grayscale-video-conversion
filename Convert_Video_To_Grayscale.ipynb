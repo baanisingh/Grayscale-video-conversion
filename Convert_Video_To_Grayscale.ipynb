{
  "nbformat": 4,
  "nbformat_minor": 0,
  "metadata": {
    "colab": {
      "provenance": [],
      "include_colab_link": true
    },
    "kernelspec": {
      "name": "python3",
      "display_name": "Python 3"
    },
    "language_info": {
      "name": "python"
    }
  },
  "cells": [
    {
      "cell_type": "markdown",
      "metadata": {
        "id": "view-in-github",
        "colab_type": "text"
      },
      "source": [
        "<a href=\"https://colab.research.google.com/github/baanisingh/Grayscale-video-conversion/blob/main/Convert_Video_To_Grayscale.ipynb\" target=\"_parent\"><img src=\"https://colab.research.google.com/assets/colab-badge.svg\" alt=\"Open In Colab\"/></a>"
      ]
    },
    {
      "cell_type": "code",
      "source": [
        "import cv2\n",
        "import numpy as np\n",
        "from google.colab.patches import cv2_imshow\n",
        "\n",
        "input_video = cv2.VideoCapture('/content/pexels-yaroslav-shuraev-4125029-3840x2160-24fps.mp4')\n",
        "\n",
        "output_filename = 'output_video.mp4'\n",
        "codec = cv2.VideoWriter_fourcc(*'mp4v')\n",
        "fps = input_video.get(cv2.CAP_PROP_FPS)\n",
        "frame_width = int(input_video.get(cv2.CAP_PROP_FRAME_WIDTH))\n",
        "frame_height = int(input_video.get(cv2.CAP_PROP_FRAME_HEIGHT))\n",
        "\n",
        "output_video = cv2.VideoWriter(output_filename, codec, fps, (frame_width, frame_height), isColor=False)\n",
        "\n",
        "while input_video.isOpened():\n",
        "    ret, frame = input_video.read()\n",
        "\n",
        "    if ret:\n",
        "        gray_frame = cv2.cvtColor(frame, cv2.COLOR_BGR2GRAY)\n",
        "        output_video.write(gray_frame)\n",
        "\n",
        "        cv2_imshow( gray_frame)\n",
        "\n",
        "        if cv2.waitKey(1) & 0xFF == ord('q'):\n",
        "            break\n",
        "    else:\n",
        "        break\n",
        "\n",
        "input_video.release()\n",
        "output_video.release()\n",
        "cv2.destroyAllWindows()\n"
      ],
      "metadata": {
        "id": "Lgw_mBUXMJIE"
      },
      "execution_count": null,
      "outputs": []
    }
  ]
}